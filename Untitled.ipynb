{
 "cells": [
  {
   "cell_type": "code",
   "execution_count": 2,
   "metadata": {
    "collapsed": true,
    "scrolled": true
   },
   "outputs": [],
   "source": [
    "import csv\n",
    "from sklearn.svm import SVR\n",
    "import matplotlib.pyplot as plt\n",
    "import numpy as np"
   ]
  },
  {
   "cell_type": "code",
   "execution_count": 3,
   "metadata": {
    "collapsed": true,
    "scrolled": true
   },
   "outputs": [],
   "source": [
    "dates = []\n",
    "price = []"
   ]
  },
  {
   "cell_type": "code",
   "execution_count": 4,
   "metadata": {
    "collapsed": true,
    "scrolled": true
   },
   "outputs": [],
   "source": [
    "from collections import deque\n",
    "def minMutation(start, end, bank):\n",
    "    lookup = {}\n",
    "    for b in bank:\n",
    "        lookup[b] = False\n",
    "\n",
    "    q = deque([(start, 0)])\n",
    "    while q:\n",
    "        cur, level = q.popleft()\n",
    "        if cur == end:\n",
    "            return level\n",
    "\n",
    "        for i in xrange(len(cur)):\n",
    "            for c in ['A', 'T', 'C', 'G']:\n",
    "                if cur[i] == c:\n",
    "                    continue\n",
    "\n",
    "                next_str = cur[:i] + c + cur[i+1:]\n",
    "                if next_str in lookup and lookup[next_str] == False:\n",
    "                    q.append((next_str, level+1))\n",
    "                    lookup[next_str] = True\n",
    "\n",
    "    return -1"
   ]
  },
  {
   "cell_type": "code",
   "execution_count": 9,
   "metadata": {
    "collapsed": true,
    "scrolled": true
   },
   "outputs": [],
   "source": [
    "def predict_price(dates, price, x):\n",
    "    dates = np.reshape(dates, (len(dates), 1))\n",
    "    \n",
    "    svr_lin = SVR(kernel=\"linear\", C=1e3)\n",
    "    svr_poly = SVR(kernel=\"poly\", C=1e3, degree=2)\n",
    "    svr_rbf = SVR(kernel=\"rbf\", C=1e3, gamma= 0.1)\n",
    "    \n",
    "    svr_lin.fit(dates,price)\n",
    "    svr_poly.fit(dates,price)\n",
    "    svr_rbf.fit(dates,price)\n",
    "    \n",
    "    plt.scatter(dates,price, color = \"black\", label = 'Data')\n",
    "    plt.plot(dates, svr_lin.predict(dates), color='Blue', label = \"Linear Model\")\n",
    "    plt.plot(dates, svr_poly.predict(dates), color='Green', label = \"Ploynomial Model\")\n",
    "    plt.plot(dates, svr_rbf.predict(dates), color='Red', label = \"RBF Model\")\n",
    "    plt.xlabel(\"Date\")\n",
    "    plt.ylabel(\"Price\")\n",
    "    plt.legend()\n",
    "    plt.show()\n",
    "    return(svr_lin.predict(x)[0], svr_poly.predict(x)[0], svr_rbf.predict(x))"
   ]
  },
  {
   "cell_type": "code",
   "execution_count": 10,
   "metadata": {
    "scrolled": true
   },
   "outputs": [
    {
     "data": {
      "image/png": "[encoded data removed]",
      "text/plain": [
       "<matplotlib.figure.Figure at 0x1f87c36dc50>"
      ]
     },
     "metadata": {},
     "output_type": "display_data"
    },
    {
     "name": "stdout",
     "output_type": "stream",
     "text": [
      "lnr 156.245384615\n",
      "poly 155.715914125\n",
      "rbf [ 173.89970593]\n"
     ]
    }
   ],
   "source": [
    "getData(\"HistoricalQuotes.csv\")\n",
    "lnr, poly,rbf = predict_price(dates, price, \"03\")\n",
    "print (\"lnr\", lnr)\n",
    "print (\"poly\", poly)\n",
    "print (\"rbf\", rbf)\n",
    "#print (dates)"
   ]
  }
 ],
 "metadata": {
  "kernelspec": {
   "display_name": "Python 3",
   "language": "python",
   "name": "python3"
  },
  "language_info": {
   "codemirror_mode": {
    "name": "ipython",
    "version": 3
   },
   "file_extension": ".py",
   "mimetype": "text/x-python",
   "name": "python",
   "nbconvert_exporter": "python",
   "pygments_lexer": "ipython3",
   "version": "3.6.1"
  }
 },
 "nbformat": 4,
 "nbformat_minor": 2
}
